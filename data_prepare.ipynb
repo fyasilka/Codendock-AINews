{
 "cells": [
  {
   "cell_type": "code",
   "execution_count": 37,
   "id": "2123769a",
   "metadata": {},
   "outputs": [],
   "source": [
    "import numpy as np\n",
    "import pandas as pd\n",
    "#чтобы полный текст посмотреть\n",
    "pd.set_option('display.max_colwidth', None)\n",
    "from nltk import sent_tokenize, word_tokenize, regexp_tokenize\n",
    "from pymorphy2 import MorphAnalyzer\n",
    "# лемматизация и мешок слов\n",
    "import nltk\n",
    "#nltk.download('punkt')\n",
    "#nltk.download('stopwords')\n",
    "#удаляю русские стоп слова (расширить???)\n",
    "from nltk.corpus import stopwords\n",
    "russian_stopwords = stopwords.words(\"russian\")\n",
    "import spacy\n",
    "from spacy.lang.ru import Russian"
   ]
  },
  {
   "cell_type": "code",
   "execution_count": 38,
   "id": "544fabac",
   "metadata": {},
   "outputs": [],
   "source": [
    "main_data = pd.DataFrame(pd.read_excel('../datasets/ai_bot_app_post.xls'))"
   ]
  },
  {
   "cell_type": "code",
   "execution_count": 39,
   "id": "c0649ea5",
   "metadata": {},
   "outputs": [
    {
     "name": "stdout",
     "output_type": "stream",
     "text": [
      "<class 'pandas.core.frame.DataFrame'>\n",
      "RangeIndex: 88182 entries, 0 to 88181\n",
      "Data columns (total 4 columns):\n",
      " #   Column       Non-Null Count  Dtype \n",
      "---  ------       --------------  ----- \n",
      " 0   user_id      88182 non-null  int64 \n",
      " 1   telegram_id  88182 non-null  int64 \n",
      " 2   text         88178 non-null  object\n",
      " 3   title        88177 non-null  object\n",
      "dtypes: int64(2), object(2)\n",
      "memory usage: 2.7+ MB\n"
     ]
    }
   ],
   "source": [
    "main_data.info()"
   ]
  },
  {
   "cell_type": "code",
   "execution_count": 40,
   "id": "ecff92e2",
   "metadata": {},
   "outputs": [
    {
     "name": "stdout",
     "output_type": "stream",
     "text": [
      "<class 'pandas.core.frame.DataFrame'>\n",
      "Index: 76435 entries, 0 to 88180\n",
      "Data columns (total 4 columns):\n",
      " #   Column       Non-Null Count  Dtype \n",
      "---  ------       --------------  ----- \n",
      " 0   user_id      76435 non-null  object\n",
      " 1   telegram_id  76435 non-null  object\n",
      " 2   text         76435 non-null  object\n",
      " 3   title        76435 non-null  object\n",
      "dtypes: object(4)\n",
      "memory usage: 2.9+ MB\n"
     ]
    }
   ],
   "source": [
    "main_data = main_data.apply(lambda x: x.astype(str).str.lower()).drop_duplicates(subset=['text', 'title'], keep='first')\n",
    "main_data.info()\n",
    "#ушло 11747 13%, пустые тоже вылетают "
   ]
  },
  {
   "cell_type": "code",
   "execution_count": 41,
   "id": "fea14538",
   "metadata": {},
   "outputs": [],
   "source": [
    "#ch_nan = main_data['text'].isnull().values.any()\n",
    "#print(ch_nan)"
   ]
  },
  {
   "cell_type": "code",
   "execution_count": 42,
   "id": "3f0819a1",
   "metadata": {},
   "outputs": [
    {
     "data": {
      "text/html": [
       "<div>\n",
       "<style scoped>\n",
       "    .dataframe tbody tr th:only-of-type {\n",
       "        vertical-align: middle;\n",
       "    }\n",
       "\n",
       "    .dataframe tbody tr th {\n",
       "        vertical-align: top;\n",
       "    }\n",
       "\n",
       "    .dataframe thead th {\n",
       "        text-align: right;\n",
       "    }\n",
       "</style>\n",
       "<table border=\"1\" class=\"dataframe\">\n",
       "  <thead>\n",
       "    <tr style=\"text-align: right;\">\n",
       "      <th></th>\n",
       "      <th>user_id</th>\n",
       "      <th>telegram_id</th>\n",
       "      <th>text</th>\n",
       "      <th>title</th>\n",
       "    </tr>\n",
       "  </thead>\n",
       "  <tbody>\n",
       "    <tr>\n",
       "      <th>76645</th>\n",
       "      <td>76840</td>\n",
       "      <td>31461</td>\n",
       "      <td>**залужный: \"контрнаступление всу – не шоу\". беларусь может принять до 8 тысяч \"вагнеровцев\"**\\nhttps://ru.euronews.com/2023/07/01/ru-ukraine-update?utm_source=telegram.messenger&amp;utm_campaign=feeds_bcs_topstories&amp;utm_medium=referral</td>\n",
       "      <td>**залужный: \"контрнаступление всу – не шоу\"</td>\n",
       "    </tr>\n",
       "  </tbody>\n",
       "</table>\n",
       "</div>"
      ],
      "text/plain": [
       "      user_id telegram_id  \\\n",
       "76645   76840       31461   \n",
       "\n",
       "                                                                                                                                                                                                                                           text  \\\n",
       "76645  **залужный: \"контрнаступление всу – не шоу\". беларусь может принять до 8 тысяч \"вагнеровцев\"**\\nhttps://ru.euronews.com/2023/07/01/ru-ukraine-update?utm_source=telegram.messenger&utm_campaign=feeds_bcs_topstories&utm_medium=referral   \n",
       "\n",
       "                                             title  \n",
       "76645  **залужный: \"контрнаступление всу – не шоу\"  "
      ]
     },
     "execution_count": 42,
     "metadata": {},
     "output_type": "execute_result"
    }
   ],
   "source": [
    "#случайным образом выбираем 10 % новостей\n",
    "main_data = main_data.sample(frac=0.1)\n",
    "main_data.head(1)"
   ]
  },
  {
   "cell_type": "code",
   "execution_count": 43,
   "id": "5e0abda5",
   "metadata": {},
   "outputs": [],
   "source": [
    "#main_data.info()"
   ]
  },
  {
   "cell_type": "code",
   "execution_count": 44,
   "id": "a277d62b",
   "metadata": {},
   "outputs": [],
   "source": [
    "#main_data = main_data.iloc[0:30]"
   ]
  },
  {
   "cell_type": "code",
   "execution_count": 45,
   "id": "5a5b46f1",
   "metadata": {},
   "outputs": [],
   "source": [
    "#df_new.head(1)"
   ]
  },
  {
   "cell_type": "code",
   "execution_count": 46,
   "id": "14b22c46",
   "metadata": {},
   "outputs": [],
   "source": [
    "main_data['text_clean'] = main_data['text'].replace(r'http\\S+', '', regex=True).replace(r'www\\S+', '', regex=True)\n",
    "#df_new['text_clean'] = df_new['text_clean'].replace(r'http\\S+', '', regex=True).replace(r'www\\S+', '', regex=True)\n",
    "#df_new['text_clean'].head(3)"
   ]
  },
  {
   "cell_type": "code",
   "execution_count": 47,
   "id": "23457e2a",
   "metadata": {},
   "outputs": [],
   "source": [
    "main_data['text_clean'] = main_data['text_clean'].str.replace('предложить новость', '')\n",
    "main_data['text_clean'] = main_data['text_clean'].str.replace('подписаться', '')\n",
    "main_data['text_clean'] = main_data['text_clean'].str.replace('SUBSCRIBE', '')\n",
    "main_data['text_clean'] = main_data['text_clean'].str.replace('НАСТОЯЩИЙ МАТЕРИАЛ (ИНФОРМАЦИЯ) ПРОИЗВЕДЕН, РАСПРОСТРАНЕН И (ИЛИ) НАПРАВЛЕН ИНОСТРАННЫМ АГЕНТОМ', '')\n",
    "main_data['text_clean'] = main_data['text_clean'].str.replace('ЛИБО КАСАЕТСЯ ДЕЯТЕЛЬНОСТИ ИНОСТРАННОГО АГЕНТА', '')\n",
    "main_data['text_clean'] = main_data['text_clean'].str.replace('\\w+:\\/{2}[\\d\\w-]+(\\.[\\d\\w-]+)*(?:(?:\\/[^\\s/]*))*', '')\n",
    "main_data['text_clean'] = main_data['text_clean'].str.replace('\\n', '')\n",
    "main_data['text_clean'] = main_data['text_clean'].str.replace('\\t', ' ')\n",
    "main_data['text_clean'] = main_data['text_clean'].str.replace(' {2,}', ' ', regex=True)\n",
    "main_data['text_clean'] = main_data['text_clean'].str.strip()\n",
    "#df_new.head(3)   нужно ли это внизу?????\n",
    "main_data['text_clean'] = main_data['text_clean'].str.replace('\\d+', '', regex=True)"
   ]
  },
  {
   "cell_type": "code",
   "execution_count": 48,
   "id": "587b094e",
   "metadata": {},
   "outputs": [],
   "source": [
    "main_data['text_clean'] = main_data['text_clean'].replace(r'[^\\w\\s]',' ',regex=True).replace(r'\\s+',' ',regex=True).str.lower()\n",
    "#df_new['text_clean'] = df_new['text'].replace(r'[^\\w\\s]',' ',regex=True).replace(r'\\s+',' ',regex=True).str.lower()\n",
    "#df_new.head(3)"
   ]
  },
  {
   "cell_type": "code",
   "execution_count": 49,
   "id": "1b33c700",
   "metadata": {},
   "outputs": [
    {
     "data": {
      "text/html": [
       "<div>\n",
       "<style scoped>\n",
       "    .dataframe tbody tr th:only-of-type {\n",
       "        vertical-align: middle;\n",
       "    }\n",
       "\n",
       "    .dataframe tbody tr th {\n",
       "        vertical-align: top;\n",
       "    }\n",
       "\n",
       "    .dataframe thead th {\n",
       "        text-align: right;\n",
       "    }\n",
       "</style>\n",
       "<table border=\"1\" class=\"dataframe\">\n",
       "  <thead>\n",
       "    <tr style=\"text-align: right;\">\n",
       "      <th></th>\n",
       "      <th>user_id</th>\n",
       "      <th>telegram_id</th>\n",
       "      <th>text</th>\n",
       "      <th>title</th>\n",
       "      <th>text_clean</th>\n",
       "    </tr>\n",
       "  </thead>\n",
       "  <tbody>\n",
       "    <tr>\n",
       "      <th>76645</th>\n",
       "      <td>76840</td>\n",
       "      <td>31461</td>\n",
       "      <td>**залужный: \"контрнаступление всу – не шоу\". беларусь может принять до 8 тысяч \"вагнеровцев\"**\\nhttps://ru.euronews.com/2023/07/01/ru-ukraine-update?utm_source=telegram.messenger&amp;utm_campaign=feeds_bcs_topstories&amp;utm_medium=referral</td>\n",
       "      <td>**залужный: \"контрнаступление всу – не шоу\"</td>\n",
       "      <td>залужный контрнаступление всу не шоу беларусь может принять до тысяч вагнеровцев</td>\n",
       "    </tr>\n",
       "  </tbody>\n",
       "</table>\n",
       "</div>"
      ],
      "text/plain": [
       "      user_id telegram_id  \\\n",
       "76645   76840       31461   \n",
       "\n",
       "                                                                                                                                                                                                                                           text  \\\n",
       "76645  **залужный: \"контрнаступление всу – не шоу\". беларусь может принять до 8 тысяч \"вагнеровцев\"**\\nhttps://ru.euronews.com/2023/07/01/ru-ukraine-update?utm_source=telegram.messenger&utm_campaign=feeds_bcs_topstories&utm_medium=referral   \n",
       "\n",
       "                                             title  \\\n",
       "76645  **залужный: \"контрнаступление всу – не шоу\"   \n",
       "\n",
       "                                                                               text_clean  \n",
       "76645   залужный контрнаступление всу не шоу беларусь может принять до тысяч вагнеровцев   "
      ]
     },
     "execution_count": 49,
     "metadata": {},
     "output_type": "execute_result"
    }
   ],
   "source": [
    "main_data.head(1)"
   ]
  },
  {
   "cell_type": "code",
   "execution_count": 50,
   "id": "7998e91e",
   "metadata": {},
   "outputs": [],
   "source": [
    "import re\n",
    "def remove_stop_words(text):\n",
    "    tokens = re.split('\\W+', text)\n",
    "    text = [word for word in tokens if word not in russian_stopwords]\n",
    "    return text\n",
    "\n",
    "main_data['text_clean'] = main_data['text_clean'].apply(lambda x: remove_stop_words(str(x)))"
   ]
  },
  {
   "cell_type": "code",
   "execution_count": 51,
   "id": "b239bb83",
   "metadata": {},
   "outputs": [],
   "source": [
    "#nlp = spacy.load('ru_core_news_md')\n",
    "def tokenize_n_normalize(sent, pat=r\"(?u)\\b\\w\\w+\\b\", morph=MorphAnalyzer()):\n",
    "    return [morph.parse(tok)[0].normal_form \n",
    "            for tok in regexp_tokenize(sent, pat)]\n",
    "\n",
    "main_data['text_lemma'] = main_data['text_clean'].map(lambda x: \" \".join(tokenize_n_normalize(str(x))))"
   ]
  },
  {
   "cell_type": "code",
   "execution_count": 52,
   "id": "4cb7e460",
   "metadata": {},
   "outputs": [
    {
     "data": {
      "text/html": [
       "<div>\n",
       "<style scoped>\n",
       "    .dataframe tbody tr th:only-of-type {\n",
       "        vertical-align: middle;\n",
       "    }\n",
       "\n",
       "    .dataframe tbody tr th {\n",
       "        vertical-align: top;\n",
       "    }\n",
       "\n",
       "    .dataframe thead th {\n",
       "        text-align: right;\n",
       "    }\n",
       "</style>\n",
       "<table border=\"1\" class=\"dataframe\">\n",
       "  <thead>\n",
       "    <tr style=\"text-align: right;\">\n",
       "      <th></th>\n",
       "      <th>user_id</th>\n",
       "      <th>telegram_id</th>\n",
       "      <th>text</th>\n",
       "      <th>title</th>\n",
       "      <th>text_clean</th>\n",
       "      <th>text_lemma</th>\n",
       "    </tr>\n",
       "  </thead>\n",
       "  <tbody>\n",
       "    <tr>\n",
       "      <th>76645</th>\n",
       "      <td>76840</td>\n",
       "      <td>31461</td>\n",
       "      <td>**залужный: \"контрнаступление всу – не шоу\". беларусь может принять до 8 тысяч \"вагнеровцев\"**\\nhttps://ru.euronews.com/2023/07/01/ru-ukraine-update?utm_source=telegram.messenger&amp;utm_campaign=feeds_bcs_topstories&amp;utm_medium=referral</td>\n",
       "      <td>**залужный: \"контрнаступление всу – не шоу\"</td>\n",
       "      <td>[, залужный, контрнаступление, всу, шоу, беларусь, принять, тысяч, вагнеровцев, ]</td>\n",
       "      <td>залужный контрнаступление всу шоу беларусь принять тысяча вагнеровец</td>\n",
       "    </tr>\n",
       "  </tbody>\n",
       "</table>\n",
       "</div>"
      ],
      "text/plain": [
       "      user_id telegram_id  \\\n",
       "76645   76840       31461   \n",
       "\n",
       "                                                                                                                                                                                                                                           text  \\\n",
       "76645  **залужный: \"контрнаступление всу – не шоу\". беларусь может принять до 8 тысяч \"вагнеровцев\"**\\nhttps://ru.euronews.com/2023/07/01/ru-ukraine-update?utm_source=telegram.messenger&utm_campaign=feeds_bcs_topstories&utm_medium=referral   \n",
       "\n",
       "                                             title  \\\n",
       "76645  **залужный: \"контрнаступление всу – не шоу\"   \n",
       "\n",
       "                                                                              text_clean  \\\n",
       "76645  [, залужный, контрнаступление, всу, шоу, беларусь, принять, тысяч, вагнеровцев, ]   \n",
       "\n",
       "                                                                 text_lemma  \n",
       "76645  залужный контрнаступление всу шоу беларусь принять тысяча вагнеровец  "
      ]
     },
     "execution_count": 52,
     "metadata": {},
     "output_type": "execute_result"
    }
   ],
   "source": [
    "main_data.head(1)"
   ]
  },
  {
   "cell_type": "code",
   "execution_count": 17,
   "id": "1943fa9e",
   "metadata": {},
   "outputs": [],
   "source": [
    "main_data.to_csv('../datasets/ready_to_work.csv')"
   ]
  },
  {
   "cell_type": "code",
   "execution_count": 18,
   "id": "8ef21c96",
   "metadata": {},
   "outputs": [],
   "source": [
    "main_data.to_excel(\"../datasets/ready_to_work.xlsx\")"
   ]
  }
 ],
 "metadata": {
  "kernelspec": {
   "display_name": "Python 3 (ipykernel)",
   "language": "python",
   "name": "python3"
  },
  "language_info": {
   "codemirror_mode": {
    "name": "ipython",
    "version": 3
   },
   "file_extension": ".py",
   "mimetype": "text/x-python",
   "name": "python",
   "nbconvert_exporter": "python",
   "pygments_lexer": "ipython3",
   "version": "3.10.11"
  }
 },
 "nbformat": 4,
 "nbformat_minor": 5
}
